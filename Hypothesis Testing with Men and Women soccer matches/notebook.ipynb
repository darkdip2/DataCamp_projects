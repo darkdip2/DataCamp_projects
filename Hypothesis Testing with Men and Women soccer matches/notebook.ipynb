{
 "cells": [
  {
   "cell_type": "markdown",
   "id": "3ed0edb2-696b-49ab-9db0-681defcce695",
   "metadata": {},
   "source": [
    "![A soccer pitch for an international match.](soccer-pitch.jpg)\n",
    "\n",
    "You're working as a sports journalist at a major online sports media company, specializing in soccer analysis and reporting. You've been watching both men's and women's international soccer matches for a number of years, and your gut instinct tells you that more goals are scored in women's international football matches than men's. This would make an interesting investigative article that your subscribers are bound to love, but you'll need to perform a valid statistical hypothesis test to be sure!\n",
    "\n",
    "While scoping this project, you acknowledge that the sport has changed a lot over the years, and performances likely vary a lot depending on the tournament, so you decide to limit the data used in the analysis to only official `FIFA World Cup` matches (not including qualifiers) since `2002-01-01`.\n",
    "\n",
    "You create two datasets containing the results of every official men's and women's international football match since the 19th century, which you scraped from a reliable online source. This data is stored in two CSV files: `women_results.csv` and `men_results.csv`.\n",
    "\n",
    "The question you are trying to determine the answer to is:\n",
    "\n",
    "> Are more goals scored in women's international soccer matches than men's?\n",
    "\n",
    "You assume a **10% significance level**, and use the following null and alternative hypotheses:\n",
    "\n",
    "$H_0$ : The mean number of goals scored in women's international soccer matches is the same as men's.\n",
    "\n",
    "$H_A$ : The mean number of goals scored in women's international soccer matches is greater than men's."
   ]
  },
  {
   "cell_type": "code",
   "execution_count": 1,
   "id": "9fc4b7d6",
   "metadata": {},
   "outputs": [],
   "source": [
    "import pandas as pd\n",
    "from scipy.stats import shapiro,mannwhitneyu"
   ]
  },
  {
   "cell_type": "markdown",
   "id": "ed918f45",
   "metadata": {},
   "source": [
    "## Reading and preparing the total goals columns"
   ]
  },
  {
   "cell_type": "code",
   "execution_count": 2,
   "id": "84a3c4c8-534b-4d1a-9919-17e05208b2ca",
   "metadata": {},
   "outputs": [],
   "source": [
    "M=pd.read_csv('men_results.csv')\n",
    "M['n']=M['home_score']+M['away_score']\n",
    "f=pd.read_csv('women_results.csv')\n",
    "f['n']=f['home_score']+f['away_score']"
   ]
  },
  {
   "cell_type": "markdown",
   "id": "736cdbd3",
   "metadata": {},
   "source": [
    "## Only taking world cup matches since '2002-01-01'"
   ]
  },
  {
   "cell_type": "code",
   "execution_count": 3,
   "id": "02b31534",
   "metadata": {},
   "outputs": [],
   "source": [
    "M=M[(M['tournament']=='FIFA World Cup')&(M['date']>='2002-01-01')]\n",
    "f=f[(f['tournament']=='FIFA World Cup')&(f['date']>='2002-01-01')]"
   ]
  },
  {
   "cell_type": "markdown",
   "id": "28882981",
   "metadata": {},
   "source": [
    "## Normality Checks"
   ]
  },
  {
   "cell_type": "code",
   "execution_count": 4,
   "id": "9d056c00",
   "metadata": {},
   "outputs": [
    {
     "data": {
      "text/plain": [
       "ShapiroResult(statistic=0.9216617345809937, pvalue=1.7261136235902086e-05)"
      ]
     },
     "execution_count": 4,
     "metadata": {},
     "output_type": "execute_result"
    }
   ],
   "source": [
    "shapiro(M.sample(100,random_state=95)['n'])"
   ]
  },
  {
   "cell_type": "code",
   "execution_count": 5,
   "id": "eb05fe96",
   "metadata": {},
   "outputs": [
    {
     "data": {
      "text/plain": [
       "ShapiroResult(statistic=0.8478097915649414, pvalue=9.851487625667232e-09)"
      ]
     },
     "execution_count": 5,
     "metadata": {},
     "output_type": "execute_result"
    }
   ],
   "source": [
    "shapiro(f.sample(100,random_state=95)['n'])"
   ]
  },
  {
   "cell_type": "markdown",
   "id": "b7a2c693",
   "metadata": {},
   "source": [
    "## Using 2 sample independent Ttest as population stds are unknown would be the obvious choice but as normality is failing for both going for non-paramteric mannwhitneyu test"
   ]
  },
  {
   "cell_type": "code",
   "execution_count": 7,
   "id": "5c73ce66",
   "metadata": {},
   "outputs": [
    {
     "data": {
      "text/plain": [
       "{'p_val': 0.005106609825443641, 'result': 'reject'}"
      ]
     },
     "execution_count": 7,
     "metadata": {},
     "output_type": "execute_result"
    }
   ],
   "source": [
    "p_val=mannwhitneyu(M['n'],f['n'],alternative='less').pvalue\n",
    "result_dict={'p_val':p_val,'result':'reject'}\n",
    "result_dict"
   ]
  },
  {
   "cell_type": "code",
   "execution_count": null,
   "id": "72f09760",
   "metadata": {},
   "outputs": [],
   "source": []
  }
 ],
 "metadata": {
  "colab": {
   "name": "Welcome to DataCamp Workspaces.ipynb",
   "provenance": []
  },
  "kernelspec": {
   "display_name": "Python 3 (ipykernel)",
   "language": "python",
   "name": "python3"
  },
  "language_info": {
   "codemirror_mode": {
    "name": "ipython",
    "version": 3
   },
   "file_extension": ".py",
   "mimetype": "text/x-python",
   "name": "python",
   "nbconvert_exporter": "python",
   "pygments_lexer": "ipython3",
   "version": "3.11.5"
  }
 },
 "nbformat": 4,
 "nbformat_minor": 5
}
