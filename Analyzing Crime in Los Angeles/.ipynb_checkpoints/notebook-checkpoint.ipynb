{
 "cells": [
  {
   "cell_type": "markdown",
   "id": "31ab2131-3049-4d8d-b9dc-d195f72af27a",
   "metadata": {},
   "source": [
    "![Los Angeles skyline](la_skyline.jpg)\n",
    "\n",
    "Los Angeles, California 😎. The City of Angels. Tinseltown. The Entertainment Capital of the World! \n",
    "\n",
    "Known for its warm weather, palm trees, sprawling coastline, and Hollywood, along with producing some of the most iconic films and songs. However, as with any highly populated city, it isn't always glamorous and there can be a large volume of crime. That's where you can help!\n",
    "\n",
    "You have been asked to support the Los Angeles Police Department (LAPD) by analyzing crime data to identify patterns in criminal behavior. They plan to use your insights to allocate resources effectively to tackle various crimes in different areas.\n",
    "\n",
    "## The Data\n",
    "\n",
    "They have provided you with a single dataset to use. A summary and preview are provided below.\n",
    "\n",
    "It is a modified version of the original data, which is publicly available from Los Angeles Open Data.\n",
    "\n",
    "# crimes.csv\n",
    "\n",
    "| Column     | Description              |\n",
    "|------------|--------------------------|\n",
    "| `'DR_NO'` | Division of Records Number: Official file number made up of a 2-digit year, area ID, and 5 digits. |\n",
    "| `'Date Rptd'` | Date reported - MM/DD/YYYY. |\n",
    "| `'DATE OCC'` | Date of occurrence - MM/DD/YYYY. |\n",
    "| `'TIME OCC'` | In 24-hour military time. |\n",
    "| `'AREA NAME'` | The 21 Geographic Areas or Patrol Divisions are also given a name designation that references a landmark or the surrounding community that it is responsible for. For example, the 77th Street Division is located at the intersection of South Broadway and 77th Street, serving neighborhoods in South Los Angeles. |\n",
    "| `'Crm Cd Desc'` | Indicates the crime committed. |\n",
    "| `'Vict Age'` | Victim's age in years. |\n",
    "| `'Vict Sex'` | Victim's sex: `F`: Female, `M`: Male, `X`: Unknown. |\n",
    "| `'Vict Descent'` | Victim's descent:<ul><li>`A` - Other Asian</li><li>`B` - Black</li><li>`C` - Chinese</li><li>`D` - Cambodian</li><li>`F` - Filipino</li><li>`G` - Guamanian</li><li>`H` - Hispanic/Latin/Mexican</li><li>`I` - American Indian/Alaskan Native</li><li>`J` - Japanese</li><li>`K` - Korean</li><li>`L` - Laotian</li><li>`O` - Other</li><li>`P` - Pacific Islander</li><li>`S` - Samoan</li><li>`U` - Hawaiian</li><li>`V` - Vietnamese</li><li>`W` - White</li><li>`X` - Unknown</li><li>`Z` - Asian Indian</li> |\n",
    "| `'Weapon Desc'` | Description of the weapon used (if applicable). |\n",
    "| `'Status Desc'` | Crime status. |\n",
    "| `'LOCATION'` | Street address of the crime. |"
   ]
  },
  {
   "cell_type": "code",
   "execution_count": 1,
   "id": "7c6c3c36-5c8b-4cce-8681-95292b8f0861",
   "metadata": {
    "executionCancelledAt": null,
    "executionTime": 4364,
    "lastExecutedAt": 1692084859865,
    "lastScheduledRunId": null,
    "lastSuccessfullyExecutedCode": "# Start coding here\n# Import required libraries\nimport pandas as pd\nimport numpy as np\nimport matplotlib.pyplot as plt\nimport seaborn as sns\ncrimes = pd.read_csv(\"crimes.csv\", parse_dates=[\"Date Rptd\", \"DATE OCC\"], dtype={\"TIME OCC\": str})\ncrimes.head()",
    "outputsMetadata": {
     "0": {
      "height": 215,
      "type": "dataFrame"
     }
    }
   },
   "outputs": [
    {
     "data": {
      "text/html": [
       "<div>\n",
       "<style scoped>\n",
       "    .dataframe tbody tr th:only-of-type {\n",
       "        vertical-align: middle;\n",
       "    }\n",
       "\n",
       "    .dataframe tbody tr th {\n",
       "        vertical-align: top;\n",
       "    }\n",
       "\n",
       "    .dataframe thead th {\n",
       "        text-align: right;\n",
       "    }\n",
       "</style>\n",
       "<table border=\"1\" class=\"dataframe\">\n",
       "  <thead>\n",
       "    <tr style=\"text-align: right;\">\n",
       "      <th></th>\n",
       "      <th>DR_NO</th>\n",
       "      <th>Date Rptd</th>\n",
       "      <th>DATE OCC</th>\n",
       "      <th>TIME OCC</th>\n",
       "      <th>AREA NAME</th>\n",
       "      <th>Crm Cd Desc</th>\n",
       "      <th>Vict Age</th>\n",
       "      <th>Vict Sex</th>\n",
       "      <th>Vict Descent</th>\n",
       "      <th>Weapon Desc</th>\n",
       "      <th>Status Desc</th>\n",
       "      <th>LOCATION</th>\n",
       "    </tr>\n",
       "  </thead>\n",
       "  <tbody>\n",
       "    <tr>\n",
       "      <th>0</th>\n",
       "      <td>221412410</td>\n",
       "      <td>2022-06-15</td>\n",
       "      <td>2020-11-12</td>\n",
       "      <td>1700</td>\n",
       "      <td>Pacific</td>\n",
       "      <td>THEFT FROM MOTOR VEHICLE - PETTY ($950 &amp; UNDER)</td>\n",
       "      <td>0</td>\n",
       "      <td>NaN</td>\n",
       "      <td>NaN</td>\n",
       "      <td>NaN</td>\n",
       "      <td>Invest Cont</td>\n",
       "      <td>13600    MARINA POINT                 DR</td>\n",
       "    </tr>\n",
       "    <tr>\n",
       "      <th>1</th>\n",
       "      <td>220314085</td>\n",
       "      <td>2022-07-22</td>\n",
       "      <td>2020-05-12</td>\n",
       "      <td>1110</td>\n",
       "      <td>Southwest</td>\n",
       "      <td>THEFT OF IDENTITY</td>\n",
       "      <td>27</td>\n",
       "      <td>F</td>\n",
       "      <td>B</td>\n",
       "      <td>NaN</td>\n",
       "      <td>Invest Cont</td>\n",
       "      <td>2500 S  SYCAMORE                     AV</td>\n",
       "    </tr>\n",
       "    <tr>\n",
       "      <th>2</th>\n",
       "      <td>222013040</td>\n",
       "      <td>2022-08-06</td>\n",
       "      <td>2020-06-04</td>\n",
       "      <td>1620</td>\n",
       "      <td>Olympic</td>\n",
       "      <td>THEFT OF IDENTITY</td>\n",
       "      <td>60</td>\n",
       "      <td>M</td>\n",
       "      <td>H</td>\n",
       "      <td>NaN</td>\n",
       "      <td>Invest Cont</td>\n",
       "      <td>3300    SAN MARINO                   ST</td>\n",
       "    </tr>\n",
       "    <tr>\n",
       "      <th>3</th>\n",
       "      <td>220614831</td>\n",
       "      <td>2022-08-18</td>\n",
       "      <td>2020-08-17</td>\n",
       "      <td>1200</td>\n",
       "      <td>Hollywood</td>\n",
       "      <td>THEFT OF IDENTITY</td>\n",
       "      <td>28</td>\n",
       "      <td>M</td>\n",
       "      <td>H</td>\n",
       "      <td>NaN</td>\n",
       "      <td>Invest Cont</td>\n",
       "      <td>1900    TRANSIENT</td>\n",
       "    </tr>\n",
       "    <tr>\n",
       "      <th>4</th>\n",
       "      <td>231207725</td>\n",
       "      <td>2023-02-27</td>\n",
       "      <td>2020-01-27</td>\n",
       "      <td>0635</td>\n",
       "      <td>77th Street</td>\n",
       "      <td>THEFT OF IDENTITY</td>\n",
       "      <td>37</td>\n",
       "      <td>M</td>\n",
       "      <td>H</td>\n",
       "      <td>NaN</td>\n",
       "      <td>Invest Cont</td>\n",
       "      <td>6200    4TH                          AV</td>\n",
       "    </tr>\n",
       "  </tbody>\n",
       "</table>\n",
       "</div>"
      ],
      "text/plain": [
       "       DR_NO  Date Rptd   DATE OCC TIME OCC    AREA NAME  \\\n",
       "0  221412410 2022-06-15 2020-11-12     1700      Pacific   \n",
       "1  220314085 2022-07-22 2020-05-12     1110    Southwest   \n",
       "2  222013040 2022-08-06 2020-06-04     1620      Olympic   \n",
       "3  220614831 2022-08-18 2020-08-17     1200    Hollywood   \n",
       "4  231207725 2023-02-27 2020-01-27     0635  77th Street   \n",
       "\n",
       "                                       Crm Cd Desc  Vict Age Vict Sex  \\\n",
       "0  THEFT FROM MOTOR VEHICLE - PETTY ($950 & UNDER)         0      NaN   \n",
       "1                                THEFT OF IDENTITY        27        F   \n",
       "2                                THEFT OF IDENTITY        60        M   \n",
       "3                                THEFT OF IDENTITY        28        M   \n",
       "4                                THEFT OF IDENTITY        37        M   \n",
       "\n",
       "  Vict Descent Weapon Desc  Status Desc  \\\n",
       "0          NaN         NaN  Invest Cont   \n",
       "1            B         NaN  Invest Cont   \n",
       "2            H         NaN  Invest Cont   \n",
       "3            H         NaN  Invest Cont   \n",
       "4            H         NaN  Invest Cont   \n",
       "\n",
       "                                   LOCATION  \n",
       "0  13600    MARINA POINT                 DR  \n",
       "1   2500 S  SYCAMORE                     AV  \n",
       "2   3300    SAN MARINO                   ST  \n",
       "3                         1900    TRANSIENT  \n",
       "4   6200    4TH                          AV  "
      ]
     },
     "execution_count": 1,
     "metadata": {},
     "output_type": "execute_result"
    }
   ],
   "source": [
    "# Re-run this cell\n",
    "# Import required libraries\n",
    "import pandas as pd\n",
    "import numpy as np\n",
    "import matplotlib.pyplot as plt\n",
    "import seaborn as sns\n",
    "crimes = pd.read_csv(\"crimes.csv\", parse_dates=[\"Date Rptd\", \"DATE OCC\"], dtype={\"TIME OCC\": str})\n",
    "crimes.head()"
   ]
  },
  {
   "cell_type": "markdown",
   "id": "460092bd",
   "metadata": {},
   "source": [
    "## HOUR WITH MAX CRIMINAL ACTIVITY"
   ]
  },
  {
   "cell_type": "code",
   "execution_count": 2,
   "id": "8819a2fa-93f9-44bc-9a84-59bba62c0a9e",
   "metadata": {},
   "outputs": [
    {
     "data": {
      "text/plain": [
       "h\n",
       "12    17065\n",
       "18    14447\n",
       "17    14107\n",
       "20    13325\n",
       "19    13146\n",
       "16    12676\n",
       "15    12671\n",
       "21    12008\n",
       "14    11889\n",
       "22    11697\n",
       "11    11120\n",
       "13    11009\n",
       "10    10720\n",
       "0     10696\n",
       "23    10039\n",
       "8      9600\n",
       "9      9138\n",
       "1      7564\n",
       "7      7011\n",
       "6      7008\n",
       "2      6352\n",
       "3      5564\n",
       "4      4696\n",
       "5      4440\n",
       "Name: count, dtype: int64"
      ]
     },
     "execution_count": 2,
     "metadata": {},
     "output_type": "execute_result"
    }
   ],
   "source": [
    "crimes['h']=crimes['TIME OCC'].str[:2].astype(int)\n",
    "crimes['m']=crimes['TIME OCC'].str[2:4].astype(int)\n",
    "crimes['h'].value_counts()"
   ]
  },
  {
   "cell_type": "markdown",
   "id": "44a7141e",
   "metadata": {},
   "source": [
    "## MAX NIGHTTIME CRIMINAL ACTIVITY"
   ]
  },
  {
   "cell_type": "code",
   "execution_count": 3,
   "id": "ce2c96d6",
   "metadata": {},
   "outputs": [
    {
     "data": {
      "text/plain": [
       "AREA NAME\n",
       "Central        18732\n",
       "77th Street    15408\n",
       "Southwest      14194\n",
       "Pacific        13866\n",
       "Olympic        12792\n",
       "Newton         12790\n",
       "Hollywood      12761\n",
       "Southeast      12600\n",
       "Wilshire       12080\n",
       "N Hollywood    11728\n",
       "Rampart        11725\n",
       "West LA        11169\n",
       "West Valley    10766\n",
       "Northeast      10686\n",
       "Van Nuys       10640\n",
       "Devonshire     10184\n",
       "Topanga         9968\n",
       "Harbor          9701\n",
       "Mission         9175\n",
       "Hollenbeck      9063\n",
       "Foothill        7960\n",
       "Name: count, dtype: int64"
      ]
     },
     "execution_count": 3,
     "metadata": {},
     "output_type": "execute_result"
    }
   ],
   "source": [
    "crimes[(crimes['h'].between(10,15))&(crimes['m'].between(0,59))]\n",
    "crimes['AREA NAME'].value_counts()"
   ]
  },
  {
   "cell_type": "markdown",
   "id": "e785e01d",
   "metadata": {},
   "source": [
    "## MAX COUNT FOR VICTIM AGE GROUP"
   ]
  },
  {
   "cell_type": "code",
   "execution_count": 4,
   "id": "dd797bd9",
   "metadata": {},
   "outputs": [
    {
     "data": {
      "text/plain": [
       "c\n",
       "26-34    47470\n",
       "35-44    42157\n",
       "45-54    28353\n",
       "18-25    28291\n",
       "55-64    20169\n",
       "65+      14747\n",
       "0-17      4528\n",
       "Name: count, dtype: int64"
      ]
     },
     "execution_count": 4,
     "metadata": {},
     "output_type": "execute_result"
    }
   ],
   "source": [
    "bins = [0,17, 25, 34, 44, 54, 64, np.inf]\n",
    "age_labels = ['0-17', '18-25', '26-34', '35-44', '45-54', '55-64', '65+']\n",
    "crimes['c'] = pd.cut(crimes['Vict Age'], bins=bins,labels=age_labels)\n",
    "victim_ages=crimes['c'].value_counts()\n",
    "victim_ages"
   ]
  }
 ],
 "metadata": {
  "colab": {
   "name": "Welcome to DataCamp Workspaces.ipynb",
   "provenance": []
  },
  "kernelspec": {
   "display_name": "Python 3 (ipykernel)",
   "language": "python",
   "name": "python3"
  },
  "language_info": {
   "codemirror_mode": {
    "name": "ipython",
    "version": 3
   },
   "file_extension": ".py",
   "mimetype": "text/x-python",
   "name": "python",
   "nbconvert_exporter": "python",
   "pygments_lexer": "ipython3",
   "version": "3.11.5"
  }
 },
 "nbformat": 4,
 "nbformat_minor": 5
}
