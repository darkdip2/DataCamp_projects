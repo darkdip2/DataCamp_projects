{
 "cells": [
  {
   "cell_type": "markdown",
   "id": "32ec92a0-c21a-45b8-ac63-9f9c698a1291",
   "metadata": {},
   "source": [
    "# What's in an Avocado Toast: A Supply Chain Analysis\n",
    "\n",
    "You're in London, making an avocado toast, a quick-to-make dish that has soared in popularity on breakfast menus since the 2010s. A simple smashed avocado toast can be made with five ingredients: one ripe avocado, half a lemon, a big pinch of salt flakes, two slices of sourdough bread and a good drizzle of extra virgin olive oil. It's no small feat that most of these ingredients are readily available in grocery stores. \n",
    "\n",
    "In this project, you'll conduct a supply chain analysis of three of these ingredients used in an avocado toast, utilizing the Open Food Facts database. This database contains extensive, openly-sourced information on various foods, including their origins. Through this analysis, you will gain an in-depth understanding of the complex supply chain involved in producing a single dish.\n",
    "\n",
    "Three pairs of files are provided in the data folder:\n",
    "- A CSV file for each ingredient, such as `avocado.csv`, with data about each food item and countries of origin\n",
    "- A TXT file for each ingredient, such as `relevant_avocado_categories`, containing only the category tags of interest for that food.\n",
    "\n",
    "Here are some other key points about these files:\n",
    "- Some of the rows of data in each of the three CSV files do not contain relevant data for your investigation. In each dataset, you will need to filter out rows with irrelevant data, based on values in the `categories_tags` column. Examples of categories are, fruits, vegetables, and fruit-based oils. Filter the DataFrame to include only rows where `categories_tags` contains one of the tags in the relevant categories for that ingredient.\n",
    "- Each row of data usually has multiple categories tags in the `categories_tags` column.\n",
    "- There is a column in each CSV file called `origins_tags` with strings for country of origin of that item.\n",
    "\n",
    "After completing this project, you'll be armed with a list of ingredients and their countries of origin, and be well-positioned to launch into other analyses that explore how long, on average, these ingredients spend at sea.\n",
    "\n",
    "![](avocado_wallpaper.jpeg)"
   ]
  },
  {
   "cell_type": "code",
   "execution_count": 1,
   "id": "95870cf7-b34c-4589-b9bc-da4a45f48a09",
   "metadata": {
    "executionCancelledAt": null,
    "executionTime": 96,
    "lastExecutedAt": 1707410786880,
    "lastScheduledRunId": null,
    "lastSuccessfullyExecutedCode": "import pandas as pd\n\n# Begin coding here ...\navocado=pd.read_csv('data/avocado.csv')\navocadocat=pd.read_csv('data/relevant_avocado_categories.csv')"
   },
   "outputs": [
    {
     "name": "stderr",
     "output_type": "stream",
     "text": [
      "C:\\Users\\dipty\\AppData\\Local\\Temp\\ipykernel_12556\\3722387058.py:6: DtypeWarning: Columns (0,1,2,4,5,6,7,8,10,13,15,16,17,18,20,21,22,23,24,25,26,27,29,30,31,32,33,34,35,36,37,38,39,42,43,44,45,46,48,49,50,57,67,70,71,72,73,74,75,76,79,80,81,82,83,86,87,88,89,90,91,92,95,96,97,98,99,100,101,102,103,104,105,106,107,108,109,110,115,121,125,129,133,137,141,145,149,153,157,159,161,165,167,169,177,179,181,183,185,187,189,191,193,195,197,199,201,203,205,211,213,215,217,219,221,223,225,227,229,231,233,235,237,239,241,243,245,247,249,251,253,255,257,259,261,263,265,267,269,271,273,274,275,276,277,278,279,280,281,282,283,284,285,286,288,289,290,291,292,293,294,305,311,312,313,315,316,319,320,321,322,324) have mixed types. Specify dtype option on import or set low_memory=False.\n",
      "  olive_oil = pd.read_csv('data/olive_oil.csv', sep='\\t')\n"
     ]
    }
   ],
   "source": [
    "import pandas as pd\n",
    "\n",
    "# Reading\n",
    "avocado = pd.read_csv('data/avocado.csv', sep='\\t')\n",
    "avocado=avocado[['code', 'lc', 'product_name_en', 'quantity', 'serving_size', 'packaging_tags', 'brands', 'brands_tags', 'categories_tags', 'labels_tags', 'countries', 'countries_tags', 'origins','origins_tags']]\n",
    "olive_oil = pd.read_csv('data/olive_oil.csv', sep='\\t')\n",
    "olive_oil=olive_oil[['code', 'lc', 'product_name_en', 'quantity', 'serving_size', 'packaging_tags', 'brands', 'brands_tags', 'categories_tags', 'labels_tags', 'countries', 'countries_tags', 'origins','origins_tags']]\n",
    "sourdough = pd.read_csv('data/sourdough.csv', sep='\\t')\n",
    "sourdough=sourdough[['code', 'lc', 'product_name_en', 'quantity', 'serving_size', 'packaging_tags', 'brands', 'brands_tags', 'categories_tags', 'labels_tags', 'countries', 'countries_tags', 'origins','origins_tags']]\n",
    "\n",
    "#Removing characters that are not needed\n",
    "sourdough['origins'] = sourdough['origins'].str.replace('[^a-zA-Z\\s]', '', regex=True)\n",
    "olive_oil['origins'] = olive_oil['origins'].str.replace('[^a-zA-Z\\s]', '', regex=True)\n",
    "avocado['origins'] = avocado['origins'].str.replace('[^a-zA-Z\\s]', '', regex=True)"
   ]
  },
  {
   "cell_type": "code",
   "execution_count": 2,
   "id": "15b2c3e9",
   "metadata": {},
   "outputs": [],
   "source": [
    "#Seperation based on country\n",
    "avocado=avocado[avocado['countries']=='United Kingdom']\n",
    "sourdough=sourdough[sourdough['countries']=='United Kingdom']\n",
    "olive_oil=olive_oil[olive_oil['countries']=='United Kingdom']"
   ]
  },
  {
   "cell_type": "markdown",
   "id": "f0ced054",
   "metadata": {},
   "source": [
    "## Origin of ingredients"
   ]
  },
  {
   "cell_type": "code",
   "execution_count": 3,
   "id": "a95ab514",
   "metadata": {},
   "outputs": [
    {
     "name": "stdout",
     "output_type": "stream",
     "text": [
      "Top avocado, olive and sourdough countries respectively are: \n",
      "['Peru', 'Greece', 'United Kingdom']\n"
     ]
    }
   ],
   "source": [
    "top_sourdough_origin=sourdough[~sourdough['origins'].isna()]['origins'].value_counts().reset_index().iloc[0,0]\n",
    "top_avocado_origin=avocado[~avocado['origins'].isna()]['origins'].value_counts().reset_index().iloc[0,0]\n",
    "top_olive_oil_origin=olive_oil[~olive_oil['origins'].isna()]['origins'].value_counts().reset_index().iloc[0,0]\n",
    "print('Top avocado, olive and sourdough countries respectively are: ')\n",
    "print([top_avocado_origin, top_olive_oil_origin, top_sourdough_origin])"
   ]
  },
  {
   "cell_type": "code",
   "execution_count": null,
   "id": "bc4f4882",
   "metadata": {},
   "outputs": [],
   "source": []
  }
 ],
 "metadata": {
  "colab": {
   "name": "Welcome to DataCamp Workspaces.ipynb",
   "provenance": []
  },
  "kernelspec": {
   "display_name": "Python 3 (ipykernel)",
   "language": "python",
   "name": "python3"
  },
  "language_info": {
   "codemirror_mode": {
    "name": "ipython",
    "version": 3
   },
   "file_extension": ".py",
   "mimetype": "text/x-python",
   "name": "python",
   "nbconvert_exporter": "python",
   "pygments_lexer": "ipython3",
   "version": "3.11.5"
  }
 },
 "nbformat": 4,
 "nbformat_minor": 5
}
