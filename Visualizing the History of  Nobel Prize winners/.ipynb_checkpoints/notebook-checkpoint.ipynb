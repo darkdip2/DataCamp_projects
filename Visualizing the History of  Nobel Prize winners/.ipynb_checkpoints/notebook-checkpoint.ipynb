{
 "cells": [
  {
   "cell_type": "markdown",
   "id": "db5bd2ce-918a-4f7d-a927-a3ea74c4b456",
   "metadata": {},
   "source": [
    "The Nobel Prize has been among the most prestigious international awards since 1901. Each year, awards are bestowed in chemistry, literature, physics, physiology or medicine, economics, and peace. In addition to the honor, prestige, and substantial prize money, the recipient also gets a gold medal with an image of Alfred Nobel (1833 - 1896), who established the prize.\n",
    "\n",
    "![](Nobel_Prize.png)\n",
    "\n",
    "The Nobel Foundation has made a dataset available of all prize winners from the outset of the awards from 1901 to 2023. The dataset used in this project is from the Nobel Prize API and is available in the `nobel.csv` file in the `data` folder.\n",
    "\n",
    "In this project, you'll get a chance to explore and answer several questions related to this prizewinning data. And we encourage you then to explore further questions that you're interested in!"
   ]
  },
  {
   "cell_type": "code",
   "execution_count": 1,
   "id": "36a366b4",
   "metadata": {},
   "outputs": [],
   "source": [
    "import pandas as pd\n",
    "import seaborn as sns\n",
    "import numpy as np\n",
    "nobel=pd.read_csv('data/nobel.csv')"
   ]
  },
  {
   "cell_type": "markdown",
   "id": "cf46e5dd",
   "metadata": {},
   "source": [
    "## Top Gender and Top Country"
   ]
  },
  {
   "cell_type": "code",
   "execution_count": 2,
   "id": "14f365cf",
   "metadata": {},
   "outputs": [
    {
     "name": "stdout",
     "output_type": "stream",
     "text": [
      "Top gender and country: ['Male', 'United States of America']\n",
      "\n"
     ]
    }
   ],
   "source": [
    "top_gender=nobel['sex'].value_counts().reset_index().iloc[0,0]\n",
    "top_country=nobel['birth_country'].value_counts().reset_index().iloc[0,0]\n",
    "print('Top gender and country: ',end='')\n",
    "print([top_gender,top_country])\n",
    "print()"
   ]
  },
  {
   "cell_type": "markdown",
   "id": "d0cf76b8",
   "metadata": {},
   "source": [
    "## Top gender and country: ['Male', 'United States of America']"
   ]
  },
  {
   "cell_type": "markdown",
   "id": "1af8b9cb",
   "metadata": {},
   "source": [
    "## Top decade for USA"
   ]
  },
  {
   "cell_type": "code",
   "execution_count": 3,
   "id": "8bb548c7",
   "metadata": {},
   "outputs": [
    {
     "name": "stdout",
     "output_type": "stream",
     "text": [
      "Top decade for USA: 2000\n",
      "\n"
     ]
    }
   ],
   "source": [
    "nobel['dec']=(np.floor(nobel['year']/10)*10).astype(int)\n",
    "usa=nobel\n",
    "usa['is_am']=nobel['birth_country']=='United States of America'\n",
    "max_decade_usa=usa.groupby('dec',as_index=False)['is_am'].mean().sort_values('is_am',ascending=False).reset_index().iloc[0,1]\n",
    "print('Top decade for USA: '+str(max_decade_usa))\n",
    "print()"
   ]
  },
  {
   "cell_type": "markdown",
   "id": "f708b638",
   "metadata": {},
   "source": [
    "## Top decade for USA: 2000"
   ]
  },
  {
   "cell_type": "markdown",
   "id": "70451d0c",
   "metadata": {},
   "source": [
    "## Top decade and category female"
   ]
  },
  {
   "cell_type": "code",
   "execution_count": 4,
   "id": "b68ea6bb",
   "metadata": {},
   "outputs": [
    {
     "name": "stdout",
     "output_type": "stream",
     "text": [
      "Top female category and decade: {2020: 'Literature'}\n",
      "\n"
     ]
    }
   ],
   "source": [
    "female=nobel\n",
    "female['is_fe']=nobel['sex']=='Female'\n",
    "topfemcat=female.groupby(['category','dec'],as_index=False)['is_fe'].mean().sort_values('is_fe',ascending=False).reset_index()\n",
    "#topfemcat\n",
    "max_female_dict={topfemcat.iloc[0,2]:topfemcat.iloc[0,1]}\n",
    "print('Top female category and decade: ',end='')\n",
    "print(max_female_dict)\n",
    "print()"
   ]
  },
  {
   "cell_type": "markdown",
   "id": "bb7d8a11",
   "metadata": {},
   "source": [
    "## Top female category and decade: {2020: 'Literature'}"
   ]
  },
  {
   "cell_type": "markdown",
   "id": "2c5e8b0f",
   "metadata": {},
   "source": [
    "## First female"
   ]
  },
  {
   "cell_type": "code",
   "execution_count": 5,
   "id": "d56811ab",
   "metadata": {},
   "outputs": [
    {
     "name": "stdout",
     "output_type": "stream",
     "text": [
      "First woman and woman category: ['Marie Curie, née Sklodowska', 'Physics']\n",
      "\n"
     ]
    }
   ],
   "source": [
    "female=nobel[nobel['sex']=='Female']\n",
    "first_woman_name=female.sort_values('year').reset_index().loc[0,'full_name']\n",
    "first_woman_category=female.sort_values('year').reset_index().loc[0,'category']\n",
    "print('First woman and woman category: ',end='')\n",
    "print([first_woman_name,first_woman_category])\n",
    "print()"
   ]
  },
  {
   "cell_type": "markdown",
   "id": "5cc66917",
   "metadata": {},
   "source": [
    "## First woman and woman category: ['Marie Curie, née Sklodowska', 'Physics']"
   ]
  },
  {
   "cell_type": "markdown",
   "id": "e6c06950",
   "metadata": {},
   "source": [
    "## Multiple times winners"
   ]
  },
  {
   "cell_type": "code",
   "execution_count": 6,
   "id": "11fd5946-7bd1-495c-aa7f-ff6e7e4a350b",
   "metadata": {
    "executionCancelledAt": null,
    "executionTime": 35,
    "lastExecutedAt": 1708008684371,
    "lastScheduledRunId": null,
    "lastSuccessfullyExecutedCode": "# Loading in required libraries\nimport pandas as pd\nimport seaborn as sns\nimport numpy as np\n\n# Start coding here!\nnobel=pd.read_csv('data/nobel.csv')\n\n#Top Gender and Top Country\ntop_gender=nobel['sex'].value_counts().reset_index().iloc[0,0]\ntop_country=nobel['birth_country'].value_counts().reset_index().iloc[0,0]\nprint([top_gender,top_country])\n\n#Top decade for USA\nnobel['dec']=(np.floor(nobel['year']/10)*10).astype(int)\nusa=nobel\nusa['is_am']=nobel['birth_country']=='United States of America'\nmax_decade_usa=usa.groupby('dec',as_index=False)['is_am'].mean().sort_values('is_am',ascending=False).reset_index().iloc[0,1]\nprint(max_decade_usa)\n\n# Top decade and category female\nfemale=nobel\nfemale['is_fe']=nobel['sex']=='Female'\ntopfemcat=female.groupby(['category','dec'],as_index=False)['is_fe'].mean().sort_values('is_fe',ascending=False).reset_index()\n#topfemcat\nmax_female_dict={topfemcat.iloc[0,2]:topfemcat.iloc[0,1]}\nprint(max_female_dict)\n\n# First female\nfemale=nobel[nobel['sex']=='Female']\nfirst_woman_name=female.sort_values('year').reset_index().loc[0,'full_name']\nfirst_woman_category=female.sort_values('year').reset_index().loc[0,'category']\nprint([first_woman_name,first_woman_category])\n\n# Multiple\nrepeat_list=nobel[nobel.duplicated(subset=['full_name'],keep='first')][['full_name']]\nrepeat_list=set(repeat_list['full_name'])\nprint(repeat_list)\n",
    "outputsMetadata": {
     "0": {
      "height": 97,
      "type": "stream"
     },
     "1": {
      "height": 215,
      "type": "dataFrame"
     }
    }
   },
   "outputs": [
    {
     "name": "stdout",
     "output_type": "stream",
     "text": [
      "Ones who won more than once: \n",
      "{'Linus Carl Pauling', 'Comité international de la Croix Rouge (International Committee of the Red Cross)', 'Marie Curie, née Sklodowska', 'Office of the United Nations High Commissioner for Refugees (UNHCR)', 'John Bardeen', 'Frederick Sanger'}\n"
     ]
    }
   ],
   "source": [
    "repeat_list=nobel[nobel.duplicated(subset=['full_name'],keep='first')][['full_name']]\n",
    "repeat_list=set(repeat_list['full_name'])\n",
    "print('Ones who won more than once: ')\n",
    "print(repeat_list)"
   ]
  },
  {
   "cell_type": "markdown",
   "id": "0ae607b5",
   "metadata": {},
   "source": [
    "## Ones who won more than once: {'Linus Carl Pauling', 'Comité international de la Croix Rouge (International Committee of the Red Cross)', 'Marie Curie, née Sklodowska', 'Office of the United Nations High Commissioner for Refugees (UNHCR)', 'John Bardeen', 'Frederick Sanger'}"
   ]
  },
  {
   "cell_type": "code",
   "execution_count": null,
   "id": "f18b8299",
   "metadata": {},
   "outputs": [],
   "source": []
  }
 ],
 "metadata": {
  "editor": "DataCamp Workspace",
  "kernelspec": {
   "display_name": "Python 3 (ipykernel)",
   "language": "python",
   "name": "python3"
  },
  "language_info": {
   "codemirror_mode": {
    "name": "ipython",
    "version": 3
   },
   "file_extension": ".py",
   "mimetype": "text/x-python",
   "name": "python",
   "nbconvert_exporter": "python",
   "pygments_lexer": "ipython3",
   "version": "3.11.5"
  }
 },
 "nbformat": 4,
 "nbformat_minor": 5
}
